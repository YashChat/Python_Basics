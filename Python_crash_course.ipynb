{
 "cells": [
  {
   "cell_type": "markdown",
   "metadata": {},
   "source": [
    "# Python Crash Course"
   ]
  },
  {
   "cell_type": "code",
   "execution_count": 78,
   "metadata": {},
   "outputs": [],
   "source": [
    "num = 7\n",
    "name = 'Yash'"
   ]
  },
  {
   "cell_type": "code",
   "execution_count": 79,
   "metadata": {},
   "outputs": [
    {
     "name": "stdout",
     "output_type": "stream",
     "text": [
      "My number is 7 and my name is Yash.\n",
      "My number is 7 and my name is Yash.\n"
     ]
    }
   ],
   "source": [
    "print('My number is {} and my name is {}.'.format(num, name))\n",
    "\n",
    "# When you don't want to worry about the order in the end in case using many braces then - \n",
    "print('My number is {one} and my name is {two}.'.format(two = name,one = num))"
   ]
  },
  {
   "cell_type": "code",
   "execution_count": 80,
   "metadata": {},
   "outputs": [
    {
     "name": "stdout",
     "output_type": "stream",
     "text": [
      "e\n"
     ]
    }
   ],
   "source": [
    "# Strings in python can be treated as arrays - just for the conecpt.\n",
    "s = 'hello df'\n",
    "print(s[1])"
   ]
  },
  {
   "cell_type": "markdown",
   "metadata": {},
   "source": [
    "#### Slicing notation for strings"
   ]
  },
  {
   "cell_type": "code",
   "execution_count": 81,
   "metadata": {},
   "outputs": [
    {
     "name": "stdout",
     "output_type": "stream",
     "text": [
      "hello df\n",
      "hel\n",
      "ell\n"
     ]
    }
   ],
   "source": [
    "# Slicing notation to get pieces of strings - \n",
    "print(s[0:]) #prints everything from o index till end of string including spaces.\n",
    "print(s[:3]) #prints everything fromstarting index till 3 position but does not include 3rd index.\n",
    "print(s[1:4]) #index 1 is inlcuded but index 4 is not."
   ]
  },
  {
   "cell_type": "code",
   "execution_count": 82,
   "metadata": {},
   "outputs": [
    {
     "name": "stdout",
     "output_type": "stream",
     "text": [
      "[]\n",
      "\n",
      "['1', '2', '3', 4]\n",
      "\n",
      "2\n",
      "\n",
      "['2', '3']\n",
      "\n",
      "['ABC', '2', '3', 4]\n"
     ]
    }
   ],
   "source": [
    "# Lists - \n",
    "my_list = ['1','2','3']\n",
    "\n",
    "# emplty list -\n",
    "emp_list = []\n",
    "print(emp_list)\n",
    "\n",
    "print()\n",
    "\n",
    "# Append menthod only takes one argument at a time.\n",
    "my_list.append(4)\n",
    "print(my_list)\n",
    "\n",
    "print()\n",
    "\n",
    "# Lists can also act as arrays - theoretically\n",
    "print(my_list[1])\n",
    "\n",
    "print()\n",
    "\n",
    "print(my_list[1:3])\n",
    "\n",
    "print()\n",
    "\n",
    "# reassign elements using indexing.\n",
    "my_list[0] = 'ABC'\n",
    "print(my_list)"
   ]
  },
  {
   "cell_type": "markdown",
   "metadata": {},
   "source": [
    "#### Nested Lists"
   ]
  },
  {
   "cell_type": "code",
   "execution_count": 83,
   "metadata": {},
   "outputs": [
    {
     "name": "stdout",
     "output_type": "stream",
     "text": [
      "2\n",
      "[4, 5, ['meow']]\n",
      "5\n",
      "4\n",
      "['meow']\n"
     ]
    }
   ],
   "source": [
    "# Nested Lists - \n",
    "nested = [1, 2, 3, [4, 5, ['meow']]]\n",
    "print(nested[1])\n",
    "print(nested[3])\n",
    "print(nested[3][1])\n",
    "print(nested[3][0])\n",
    "print(nested[3][2])"
   ]
  },
  {
   "cell_type": "markdown",
   "metadata": {},
   "source": [
    "#### Dictionaries "
   ]
  },
  {
   "cell_type": "code",
   "execution_count": 84,
   "metadata": {},
   "outputs": [
    {
     "name": "stdout",
     "output_type": "stream",
     "text": [
      "value1\n",
      "\n",
      "2\n"
     ]
    }
   ],
   "source": [
    "# Dictionaries\n",
    "# They hold elements through keys and their values, just like hashtables\n",
    "dict = {'key1':'value1', 'key2':123}\n",
    "print(dict['key1'])\n",
    "print()\n",
    "\n",
    "dict_2 = {'key3':[1,2,3]}\n",
    "print(dict_2['key3'][1])"
   ]
  },
  {
   "cell_type": "markdown",
   "metadata": {},
   "source": [
    "#### Nested Dictionaries "
   ]
  },
  {
   "cell_type": "code",
   "execution_count": 85,
   "metadata": {},
   "outputs": [
    {
     "name": "stdout",
     "output_type": "stream",
     "text": [
      "{'k2': [1, 2, 3]}\n",
      "\n",
      "[1, 2, 3]\n",
      "\n",
      "1\n"
     ]
    }
   ],
   "source": [
    "# Nested Dictionaries\n",
    "dict_3 = {'k1':{'k2':[1,2,3]}}\n",
    "print(dict_3['k1'])\n",
    "print()\n",
    "\n",
    "\n",
    "print(dict_3['k1']['k2'])\n",
    "print()\n",
    "\n",
    "print(dict_3['k1']['k2'][0])"
   ]
  },
  {
   "cell_type": "markdown",
   "metadata": {},
   "source": [
    "#### Tuples"
   ]
  },
  {
   "cell_type": "code",
   "execution_count": 1,
   "metadata": {},
   "outputs": [
    {
     "name": "stdout",
     "output_type": "stream",
     "text": [
      "2\n",
      "\n"
     ]
    }
   ],
   "source": [
    "# Tuples\n",
    "\"\"\"They are similar to lists, but we can't use indexing to \n",
    "   assign the elements to something else as they are immutable \n",
    "   (means cant change item inside) and does not support item assignment.\"\"\"\n",
    "\n",
    "my_tuple = (1,2,3)\n",
    "print(my_tuple[1])\n",
    "print()\n",
    "\n",
    "# In a list we can do my_list[0] = 'hi' as lists are mutable, but with tuples that will give error."
   ]
  },
  {
   "cell_type": "markdown",
   "metadata": {},
   "source": [
    "#### Sets"
   ]
  },
  {
   "cell_type": "code",
   "execution_count": 87,
   "metadata": {},
   "outputs": [
    {
     "name": "stdout",
     "output_type": "stream",
     "text": [
      "{1, 2, 3}\n",
      "\n",
      "{1, 2, 3, 4, 5}\n",
      "\n",
      "{1, 2, 3, 4, 5, 7}\n",
      "\n"
     ]
    }
   ],
   "source": [
    "# Sets - a collection of unique elements.\n",
    "# So even if yhou put duplicates inside it, it will only store the unique items.\n",
    "\n",
    "my_set = {1,2,3,3,2,1,2,3,3,2}\n",
    "print(my_set)\n",
    "print()\n",
    "\n",
    "# You can also call the set function and pass a bunch of recurring elements, and it will return unique ones.\n",
    "my_set_2 = set([1,2,3,4,5,5,5,4,3,2,3,2,2,3,4])\n",
    "print(my_set_2)\n",
    "print()\n",
    "\n",
    "# You can also add elements to the set using add.\n",
    "my_set_2.add(7)\n",
    "print(my_set_2)\n",
    "print()\n"
   ]
  },
  {
   "cell_type": "markdown",
   "metadata": {},
   "source": [
    "#### \" If \" loops"
   ]
  },
  {
   "cell_type": "code",
   "execution_count": 88,
   "metadata": {},
   "outputs": [
    {
     "name": "stdout",
     "output_type": "stream",
     "text": [
      "F\n"
     ]
    }
   ],
   "source": [
    "# If loops syntax - \n",
    "if (1 < 2):\n",
    "    print('F')\n",
    "elif (2 > 3):\n",
    "    print('S')\n",
    "else:\n",
    "    print('T')"
   ]
  },
  {
   "cell_type": "markdown",
   "metadata": {},
   "source": [
    "#### \"for\" loops"
   ]
  },
  {
   "cell_type": "code",
   "execution_count": 89,
   "metadata": {},
   "outputs": [
    {
     "name": "stdout",
     "output_type": "stream",
     "text": [
      "1\n",
      "2\n",
      "3\n",
      "4\n",
      "5\n",
      "\n",
      "[1, 4, 9]\n",
      "\n",
      "[1, 4, 9]\n",
      "\n"
     ]
    }
   ],
   "source": [
    "# For loops syntax - \n",
    "my_sequence = [1,2,3,4,5]\n",
    "for each_jelly in my_sequence:  # \"each_jelly\" can be replaced by anything you want.\n",
    "    print(each_jelly)\n",
    "\n",
    "print()\n",
    "    \n",
    "# New notations - \n",
    "# Normal step -\n",
    "out = []\n",
    "inp = [1,2,3]\n",
    "for num in inp:\n",
    "    out.append(num**2)\n",
    "print(out)\n",
    "print()\n",
    "\n",
    "# New way - \n",
    "out = [num**2 for num in inp]\n",
    "print(out)\n",
    "print()"
   ]
  },
  {
   "cell_type": "markdown",
   "metadata": {},
   "source": [
    "#### \"while\" loops"
   ]
  },
  {
   "cell_type": "code",
   "execution_count": 90,
   "metadata": {},
   "outputs": [
    {
     "name": "stdout",
     "output_type": "stream",
     "text": [
      "i is: 2\n",
      "i is: 3\n",
      "i is: 4\n",
      "i is: 5\n"
     ]
    }
   ],
   "source": [
    "# while loops syntax - \n",
    "i = 2\n",
    "while (i <= 5):\n",
    "    print('i is: {num}'.format(num = i))\n",
    "    i = i + 1"
   ]
  },
  {
   "cell_type": "markdown",
   "metadata": {},
   "source": [
    "#### Range( )"
   ]
  },
  {
   "cell_type": "code",
   "execution_count": 91,
   "metadata": {},
   "outputs": [
    {
     "name": "stdout",
     "output_type": "stream",
     "text": [
      "0\n",
      "1\n",
      "2\n",
      "3\n",
      "4\n",
      "\n",
      "[0, 1, 2, 3, 4]\n",
      "\n",
      "[0, 1, 2, 3, 4, 5, 6, 7, 8, 9]\n"
     ]
    }
   ],
   "source": [
    "# Range funtion\n",
    "\n",
    "for x in range(0,5):\n",
    "    print(x)\n",
    "\n",
    "print()\n",
    "    \n",
    "# construct a list of a range of numbers\n",
    "print(list(range(0,5)))\n",
    "print()\n",
    "\n",
    "# construct a list with only number of elements, default starting value is always 0\n",
    "print(list(range(10)))\n",
    "\n"
   ]
  },
  {
   "cell_type": "code",
   "execution_count": 92,
   "metadata": {},
   "outputs": [
    {
     "name": "stdout",
     "output_type": "stream",
     "text": [
      "Yash\n"
     ]
    }
   ],
   "source": [
    "# Functions syntax-\n",
    "def my_func(param):\n",
    "    print(param)\n",
    "    \n",
    "my_func('Yash')\n",
    "\n",
    "# NOTE - To know more about a function highlight it and press 'shift'"
   ]
  },
  {
   "cell_type": "markdown",
   "metadata": {},
   "source": [
    "#### Map functions"
   ]
  },
  {
   "cell_type": "code",
   "execution_count": 93,
   "metadata": {},
   "outputs": [
    {
     "name": "stdout",
     "output_type": "stream",
     "text": [
      "<map object at 0x10b1c33c8>\n",
      "\n",
      "[2, 4, 6, 8, 10]\n"
     ]
    }
   ],
   "source": [
    "# Map functions\n",
    "seq = [1, 2, 3, 4, 5]\n",
    "def times2(param):\n",
    "    return 2*param\n",
    "\n",
    "# This will apply times2 funtion to all items in seq.\n",
    "# This will return a memory location where the map is stored.\n",
    "print(map(times2, seq))\n",
    "print()\n",
    "\n",
    "# If we waant the results back in a string, we cast it to a list\n",
    "print(list(map(times2, seq)))"
   ]
  },
  {
   "cell_type": "markdown",
   "metadata": {},
   "source": [
    "#### Lambda functions"
   ]
  },
  {
   "cell_type": "code",
   "execution_count": 94,
   "metadata": {},
   "outputs": [
    {
     "name": "stdout",
     "output_type": "stream",
     "text": [
      "24\n",
      "\n",
      "[3, 6, 9, 12, 15]\n"
     ]
    }
   ],
   "source": [
    "# Lambda functions - way of writing functions in a cleaner way.\n",
    "t = lambda var:var*2\n",
    "print(t(12))\n",
    "print()\n",
    "\n",
    "# Combine map & lambda functions - \n",
    "print(list(map(lambda var: var*3, seq)))"
   ]
  },
  {
   "cell_type": "markdown",
   "metadata": {},
   "source": [
    "#### Filter function"
   ]
  },
  {
   "cell_type": "code",
   "execution_count": 95,
   "metadata": {},
   "outputs": [
    {
     "name": "stdout",
     "output_type": "stream",
     "text": [
      "<filter object at 0x10b1c4710>\n",
      "\n",
      "[2, 4]\n"
     ]
    }
   ],
   "source": [
    "# filter functions - filters out elements from a sequence\n",
    "# This returns memory address\n",
    "print(filter(lambda num: num % 2 == 0, seq))\n",
    "print()\n",
    "\n",
    "# To get results back, cast into list\n",
    "print(list(filter(lambda num: num % 2 == 0, seq)))"
   ]
  },
  {
   "cell_type": "code",
   "execution_count": 3,
   "metadata": {},
   "outputs": [
    {
     "name": "stdout",
     "output_type": "stream",
     "text": [
      "yash hey #how r #u?\n",
      "\n",
      "YASH HEY #HOW R #U?\n",
      "\n",
      "['Yash', 'hey', '#how', 'r', '#u?']\n",
      "\n",
      "['Yash hey', 'how r', 'u?']\n",
      "\n",
      "Yash hey \n",
      "\n",
      "how r \n",
      "\n",
      "u?\n"
     ]
    }
   ],
   "source": [
    "# Methods - \n",
    "s = 'Yash hey #how r #u?'\n",
    "\n",
    "# NOTE - if i press tab, after putting a '.' after string, \n",
    "# it will show me optioons that I have for different methods\n",
    "print(s.lower())\n",
    "print()\n",
    "\n",
    "print(s.upper())\n",
    "print()\n",
    "\n",
    "print(s.split())\n",
    "print()\n",
    "\n",
    "# Will split at every '#'\n",
    "print(s.split(' #'))\n",
    "print()\n",
    "\n",
    "# Only prints till the first '#' encountered.\n",
    "print(s.split('#')[0])\n",
    "print()\n",
    "\n",
    "# Only prints everything after first '#' encountered till second one, excluding both.\n",
    "print(s.split('#')[1])\n",
    "print()\n",
    "\n",
    "# Only prints till the last '#' encountered\n",
    "print(s.split('#')[-1])"
   ]
  },
  {
   "cell_type": "code",
   "execution_count": 114,
   "metadata": {},
   "outputs": [
    {
     "name": "stdout",
     "output_type": "stream",
     "text": [
      "{'key1': 'value1', 'key2': 123}\n",
      "\n",
      "dict_items([('key1', 'value1'), ('key2', 123)])\n",
      "\n",
      "dict_keys(['key1', 'key2'])\n",
      "\n",
      "dict_values(['value1', 123])\n",
      "\n"
     ]
    }
   ],
   "source": [
    "# Working with dictionaries\n",
    "print(dict)\n",
    "print()\n",
    "\n",
    "print(dict.items())\n",
    "print()\n",
    "\n",
    "print(dict.keys())\n",
    "print()\n",
    "\n",
    "print(dict.values())\n",
    "print()\n"
   ]
  },
  {
   "cell_type": "code",
   "execution_count": 115,
   "metadata": {},
   "outputs": [
    {
     "name": "stdout",
     "output_type": "stream",
     "text": [
      "Last item pooped is: 4\n",
      "\n",
      "[1, 2, 3]\n",
      "\n",
      "1\n",
      "\n",
      "[2, 3]\n",
      "\n"
     ]
    }
   ],
   "source": [
    "list = [1, 2, 3, 4]\n",
    "\n",
    "# Always pops last item in list when no argument passed\n",
    "print('Last item pooped is: {}'.format(list.pop()))\n",
    "print()\n",
    "\n",
    "print(list)\n",
    "print()\n",
    "\n",
    "# You can also pass an index, to pop that value\n",
    "print(list.pop(0))\n",
    "print()\n",
    "\n",
    "print(list)\n",
    "print()"
   ]
  },
  {
   "cell_type": "code",
   "execution_count": 117,
   "metadata": {},
   "outputs": [
    {
     "name": "stdout",
     "output_type": "stream",
     "text": [
      "False\n",
      "True\n"
     ]
    }
   ],
   "source": [
    "# In operator\n",
    "# In case youj want to check if an item is in something - \n",
    "print('x' in [1, 2, 3])\n",
    "print('x' in ['x','y','z'])"
   ]
  },
  {
   "cell_type": "code",
   "execution_count": 121,
   "metadata": {},
   "outputs": [
    {
     "name": "stdout",
     "output_type": "stream",
     "text": [
      "(1, 3)\n",
      "4\n",
      "\n",
      "(1, 3)\n",
      "(2, 4)\n",
      "(4, 5)\n",
      "\n",
      "1\n",
      "2\n",
      "4\n"
     ]
    }
   ],
   "source": [
    "# List of Tuples - \n",
    "x = [(1,3), (2,4), (4,5)]\n",
    "print(x[0])\n",
    "print(x[1][1])\n",
    "print()\n",
    "\n",
    "for item in x:\n",
    "    print(item)\n",
    "\n",
    "print()\n",
    "\n",
    "for (a,b) in x:\n",
    "    print(a)"
   ]
  },
  {
   "cell_type": "markdown",
   "metadata": {},
   "source": [
    "# Done !"
   ]
  }
 ],
 "metadata": {
  "kernelspec": {
   "display_name": "Python 3",
   "language": "python",
   "name": "python3"
  },
  "language_info": {
   "codemirror_mode": {
    "name": "ipython",
    "version": 3
   },
   "file_extension": ".py",
   "mimetype": "text/x-python",
   "name": "python",
   "nbconvert_exporter": "python",
   "pygments_lexer": "ipython3",
   "version": "3.7.3"
  }
 },
 "nbformat": 4,
 "nbformat_minor": 2
}
